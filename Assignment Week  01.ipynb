{
 "cells": [
  {
   "cell_type": "markdown",
   "id": "149f3152-b5c0-47da-8ce4-6ec991e3a848",
   "metadata": {},
   "source": [
    "QUESTION 01"
   ]
  },
  {
   "cell_type": "raw",
   "id": "af3ba5c4-4a78-45e2-8e65-a9385b7505af",
   "metadata": {},
   "source": [
    "(i)"
   ]
  },
  {
   "cell_type": "code",
   "execution_count": 1,
   "id": "18cd4152-4525-4b07-9302-195ec9004fc3",
   "metadata": {},
   "outputs": [],
   "source": [
    "a = \"dashrath\""
   ]
  },
  {
   "cell_type": "code",
   "execution_count": 2,
   "id": "98295045-e2f7-4919-aa76-0d38f88d4f10",
   "metadata": {},
   "outputs": [
    {
     "data": {
      "text/plain": [
       "str"
      ]
     },
     "execution_count": 2,
     "metadata": {},
     "output_type": "execute_result"
    }
   ],
   "source": [
    "type(a)"
   ]
  },
  {
   "cell_type": "raw",
   "id": "edb73fbf-c097-4ede-a89d-c5c1463af78f",
   "metadata": {},
   "source": [
    "(ii)"
   ]
  },
  {
   "cell_type": "code",
   "execution_count": 5,
   "id": "a78645ef-039b-461e-a896-3266a2c17788",
   "metadata": {},
   "outputs": [],
   "source": [
    "b = [2,3,4,5,\"monu\" , True , 5+6j , 20.22]"
   ]
  },
  {
   "cell_type": "code",
   "execution_count": 6,
   "id": "6933c099-e6c5-46be-bf48-228f762001b7",
   "metadata": {},
   "outputs": [
    {
     "data": {
      "text/plain": [
       "list"
      ]
     },
     "execution_count": 6,
     "metadata": {},
     "output_type": "execute_result"
    }
   ],
   "source": [
    "type(b)"
   ]
  },
  {
   "cell_type": "raw",
   "id": "22b1958e-5b50-48d0-90ce-f8ac9e8f0c6a",
   "metadata": {},
   "source": [
    "(iii)"
   ]
  },
  {
   "cell_type": "code",
   "execution_count": 7,
   "id": "39aedf64-f0f5-4520-bb13-b7d5f07ce19c",
   "metadata": {},
   "outputs": [],
   "source": [
    "c = 12.44"
   ]
  },
  {
   "cell_type": "code",
   "execution_count": 8,
   "id": "c954fa44-fa9b-43fe-92a8-f5847e58a774",
   "metadata": {},
   "outputs": [
    {
     "data": {
      "text/plain": [
       "float"
      ]
     },
     "execution_count": 8,
     "metadata": {},
     "output_type": "execute_result"
    }
   ],
   "source": [
    "type(c)"
   ]
  },
  {
   "cell_type": "raw",
   "id": "125d21a9-4a71-416d-91b5-bb0074121815",
   "metadata": {},
   "source": [
    "(iv)"
   ]
  },
  {
   "cell_type": "code",
   "execution_count": 9,
   "id": "333e5d0b-5a1b-4918-b7d1-6b5c6eca4a35",
   "metadata": {},
   "outputs": [],
   "source": [
    "d = (3,4,5,\"sonu\" , False , 50.44 , 3+4j)"
   ]
  },
  {
   "cell_type": "code",
   "execution_count": 10,
   "id": "dc03712f-158f-4c17-a350-ff0183e08361",
   "metadata": {},
   "outputs": [
    {
     "data": {
      "text/plain": [
       "tuple"
      ]
     },
     "execution_count": 10,
     "metadata": {},
     "output_type": "execute_result"
    }
   ],
   "source": [
    "type(d)"
   ]
  },
  {
   "cell_type": "markdown",
   "id": "5b45ec98-619c-46cf-a4e9-d45dfcdec625",
   "metadata": {},
   "source": [
    "QUESTION 02"
   ]
  },
  {
   "cell_type": "raw",
   "id": "89f08e69-710e-467f-8e43-24471c4f2ea1",
   "metadata": {},
   "source": [
    "(i)"
   ]
  },
  {
   "cell_type": "code",
   "execution_count": 11,
   "id": "807685c8-7041-4d69-a30e-d8d61bbdb59a",
   "metadata": {},
   "outputs": [],
   "source": [
    "p = ''"
   ]
  },
  {
   "cell_type": "code",
   "execution_count": 12,
   "id": "961329b9-ac98-450b-bc09-ef12cf9b28aa",
   "metadata": {},
   "outputs": [
    {
     "data": {
      "text/plain": [
       "str"
      ]
     },
     "execution_count": 12,
     "metadata": {},
     "output_type": "execute_result"
    }
   ],
   "source": [
    "type(p)"
   ]
  },
  {
   "cell_type": "raw",
   "id": "237fcbde-656f-47ee-843f-9d2b6029c242",
   "metadata": {},
   "source": [
    "(ii)"
   ]
  },
  {
   "cell_type": "code",
   "execution_count": 14,
   "id": "9b1991a8-150d-4c2b-8e35-b3f86c85e1ca",
   "metadata": {},
   "outputs": [],
   "source": [
    "q = '[ DS , ML , Python ]'"
   ]
  },
  {
   "cell_type": "code",
   "execution_count": 15,
   "id": "3a41bd2c-ce00-44c2-8299-1fa16dd2fa06",
   "metadata": {},
   "outputs": [
    {
     "data": {
      "text/plain": [
       "str"
      ]
     },
     "execution_count": 15,
     "metadata": {},
     "output_type": "execute_result"
    }
   ],
   "source": [
    "type(q)"
   ]
  },
  {
   "cell_type": "code",
   "execution_count": 17,
   "id": "d4ef6c55-7a1f-4439-8ced-91871ac27b37",
   "metadata": {},
   "outputs": [],
   "source": [
    "r = [ 'DS' , 'ML' , 'Python' ]"
   ]
  },
  {
   "cell_type": "code",
   "execution_count": 18,
   "id": "a1d70e23-cc45-4b90-b101-c9653c5cb8af",
   "metadata": {},
   "outputs": [
    {
     "data": {
      "text/plain": [
       "list"
      ]
     },
     "execution_count": 18,
     "metadata": {},
     "output_type": "execute_result"
    }
   ],
   "source": [
    "type(r)"
   ]
  },
  {
   "cell_type": "code",
   "execution_count": 1,
   "id": "84715fac-384f-4ea9-9825-25b5f9fb5897",
   "metadata": {},
   "outputs": [],
   "source": [
    "s = 1."
   ]
  },
  {
   "cell_type": "code",
   "execution_count": 2,
   "id": "01b3da94-aef7-48a9-b590-be85781dc051",
   "metadata": {},
   "outputs": [
    {
     "data": {
      "text/plain": [
       "float"
      ]
     },
     "execution_count": 2,
     "metadata": {},
     "output_type": "execute_result"
    }
   ],
   "source": [
    "type(s)"
   ]
  },
  {
   "cell_type": "markdown",
   "id": "a24117a0-6e7f-48b7-a977-2186477d0157",
   "metadata": {},
   "source": [
    "QUESTION 03"
   ]
  },
  {
   "cell_type": "raw",
   "id": "b7e99016-d13f-413a-9ce4-90febf10f005",
   "metadata": {},
   "source": [
    "(i)"
   ]
  },
  {
   "cell_type": "code",
   "execution_count": 4,
   "id": "3cc5ea32-d656-49d3-a17f-3a85a380a886",
   "metadata": {},
   "outputs": [
    {
     "data": {
      "text/plain": [
       "6.0"
      ]
     },
     "execution_count": 4,
     "metadata": {},
     "output_type": "execute_result"
    }
   ],
   "source": [
    "12/2"
   ]
  },
  {
   "cell_type": "raw",
   "id": "ccb6a73e-37e2-40a7-88f6-3c6acd4f0627",
   "metadata": {},
   "source": [
    "USE - This Is Provide Quotient (Bhagfal) In Points"
   ]
  },
  {
   "cell_type": "code",
   "execution_count": 5,
   "id": "ee837cdc-5cef-4ba8-8ebd-a6e3b39c4a3f",
   "metadata": {},
   "outputs": [
    {
     "data": {
      "text/plain": [
       "1"
      ]
     },
     "execution_count": 5,
     "metadata": {},
     "output_type": "execute_result"
    }
   ],
   "source": [
    "5%4"
   ]
  },
  {
   "cell_type": "raw",
   "id": "025438ef-06d8-44f2-9baa-2923bec2c93c",
   "metadata": {},
   "source": [
    "USE - This Is Provide Remainder"
   ]
  },
  {
   "cell_type": "code",
   "execution_count": 6,
   "id": "95f008d1-a545-4681-912b-198c4d4430e3",
   "metadata": {},
   "outputs": [
    {
     "data": {
      "text/plain": [
       "3"
      ]
     },
     "execution_count": 6,
     "metadata": {},
     "output_type": "execute_result"
    }
   ],
   "source": [
    "9//3"
   ]
  },
  {
   "cell_type": "raw",
   "id": "a0c696d7-77f3-4e19-a066-82775346b029",
   "metadata": {},
   "source": [
    "USe - This Is Provide Quotient (Bhagfal) "
   ]
  },
  {
   "cell_type": "code",
   "execution_count": 7,
   "id": "859be837-1699-45fb-adc1-9c120166076e",
   "metadata": {},
   "outputs": [
    {
     "data": {
      "text/plain": [
       "8"
      ]
     },
     "execution_count": 7,
     "metadata": {},
     "output_type": "execute_result"
    }
   ],
   "source": [
    "2**3"
   ]
  },
  {
   "cell_type": "raw",
   "id": "acc2f50c-b863-4710-ae12-d631b1e60c35",
   "metadata": {},
   "source": [
    "USE - That Means Square, 2*2*2 = 8"
   ]
  },
  {
   "cell_type": "markdown",
   "id": "ed837a1c-48f3-40c1-a6ae-e132273a5c02",
   "metadata": {},
   "source": [
    "QUESTION 04"
   ]
  },
  {
   "cell_type": "code",
   "execution_count": 8,
   "id": "50e084ab-5145-4a49-bf3c-f7c48a416367",
   "metadata": {},
   "outputs": [],
   "source": [
    "f = [1,2,3,4,5,6,\"monu\" , True , 67.76 , 4+6j]"
   ]
  },
  {
   "cell_type": "code",
   "execution_count": 9,
   "id": "1e79ad67-f392-4798-b854-8b3d6ef3b72a",
   "metadata": {},
   "outputs": [
    {
     "name": "stdout",
     "output_type": "stream",
     "text": [
      "<class 'int'>\n",
      "1\n",
      "<class 'int'>\n",
      "2\n",
      "<class 'int'>\n",
      "3\n",
      "<class 'int'>\n",
      "4\n",
      "<class 'int'>\n",
      "5\n",
      "<class 'int'>\n",
      "6\n",
      "<class 'str'>\n",
      "monu\n",
      "<class 'bool'>\n",
      "True\n",
      "<class 'float'>\n",
      "67.76\n",
      "<class 'complex'>\n",
      "(4+6j)\n"
     ]
    }
   ],
   "source": [
    "for i in f :\n",
    "    print(type(i)) \n",
    "    print(i)"
   ]
  },
  {
   "cell_type": "markdown",
   "id": "7d823d38-3aa9-41b4-b55b-6746f2f61454",
   "metadata": {},
   "source": [
    "QUESTION 05"
   ]
  },
  {
   "cell_type": "code",
   "execution_count": 1,
   "id": "50fa5fa7-5a0c-4bad-8ce5-6f3c02ad1e60",
   "metadata": {},
   "outputs": [
    {
     "name": "stdin",
     "output_type": "stream",
     "text": [
      "Enter the value of A:  6\n",
      "Enter the value of B:  3\n"
     ]
    },
    {
     "name": "stdout",
     "output_type": "stream",
     "text": [
      "Number A is purely divisible by B  1  times.\n"
     ]
    }
   ],
   "source": [
    "A = int(input(\"Enter the value of A: \"))\n",
    "B = int(input(\"Enter the value of B: \"))\n",
    "\n",
    "count = 0\n",
    "\n",
    "while A % B == 0:\n",
    "    count += 1\n",
    "    A = A / B\n",
    "\n",
    "if count > 0:\n",
    "    print(\"Number A is purely divisible by B \", count, \" times.\")\n",
    "else:\n",
    "    print(\"Number A is not purely divisible by B.\")"
   ]
  },
  {
   "cell_type": "markdown",
   "id": "100fdcf8-3675-453f-b626-fe41ec864fe7",
   "metadata": {},
   "source": [
    "QUESTION 06"
   ]
  },
  {
   "cell_type": "code",
   "execution_count": 1,
   "id": "07360e54-8b50-4bce-9175-dc59d44c6caf",
   "metadata": {},
   "outputs": [
    {
     "name": "stdout",
     "output_type": "stream",
     "text": [
      "1\n",
      "2\n",
      "3\n",
      "4\n",
      "5\n",
      "6\n",
      "7\n",
      "8\n",
      "9\n",
      "10\n",
      "11\n",
      "12\n",
      "13\n",
      "14\n",
      "15\n",
      "16\n",
      "17\n",
      "18\n",
      "19\n",
      "20\n",
      "21\n",
      "22\n",
      "23\n",
      "24\n",
      "25\n",
      "yes\n"
     ]
    }
   ],
   "source": [
    "l = [1,2,3,4,5,6,7,8,9,10,11,12,13,14,15,16,17,18,19,20,21,22,23,24,25]\n",
    "for p in l : \n",
    "    print(p)\n",
    "if p/3 : \n",
    "    print('yes')\n",
    "else :\n",
    "    print('no')\n"
   ]
  },
  {
   "cell_type": "markdown",
   "id": "48a0633e-5f7c-4062-8402-aa0eea4b6a61",
   "metadata": {},
   "source": [
    "QUESTION 07"
   ]
  },
  {
   "cell_type": "raw",
   "id": "1dca465c-64e0-4d44-96e1-2a22029222c8",
   "metadata": {},
   "source": [
    "MUTABLE - List Is Mutable Object & Replacement Is Allow IN Mutable Object"
   ]
  },
  {
   "cell_type": "code",
   "execution_count": 2,
   "id": "aebac4a2-f4b5-4deb-9db9-c37d22da0fcf",
   "metadata": {},
   "outputs": [],
   "source": [
    "a = [1,2,3,4,5,'monu' , True , 20.22 , 3+4j]"
   ]
  },
  {
   "cell_type": "code",
   "execution_count": 3,
   "id": "d1284961-2c39-47a7-a507-ac4546921bec",
   "metadata": {},
   "outputs": [],
   "source": [
    "a[5] = \"sonu\""
   ]
  },
  {
   "cell_type": "code",
   "execution_count": 4,
   "id": "63b711b8-111d-4919-b5d8-6fa8e20965d5",
   "metadata": {},
   "outputs": [
    {
     "data": {
      "text/plain": [
       "[1, 2, 3, 4, 5, 'sonu', True, 20.22, (3+4j)]"
      ]
     },
     "execution_count": 4,
     "metadata": {},
     "output_type": "execute_result"
    }
   ],
   "source": [
    "a"
   ]
  },
  {
   "cell_type": "raw",
   "id": "dfbc1f6b-8e6d-48a4-a083-8268c7473e47",
   "metadata": {},
   "source": [
    "IMUTABLE - Str Is Imutable Object & Replacement Is Not Allow In Imutable Object"
   ]
  },
  {
   "cell_type": "code",
   "execution_count": 5,
   "id": "980d15a2-2e15-44ec-8360-264c139950d6",
   "metadata": {},
   "outputs": [],
   "source": [
    "b = \"daksh\""
   ]
  },
  {
   "cell_type": "code",
   "execution_count": 6,
   "id": "f20cd375-6898-491e-9e8e-85e7493905b1",
   "metadata": {},
   "outputs": [
    {
     "ename": "NameError",
     "evalue": "name 'e' is not defined",
     "output_type": "error",
     "traceback": [
      "\u001b[0;31m---------------------------------------------------------------------------\u001b[0m",
      "\u001b[0;31mNameError\u001b[0m                                 Traceback (most recent call last)",
      "Cell \u001b[0;32mIn[6], line 1\u001b[0m\n\u001b[0;32m----> 1\u001b[0m b[\u001b[38;5;241m1\u001b[39m] \u001b[38;5;241m=\u001b[39m \u001b[43me\u001b[49m\n",
      "\u001b[0;31mNameError\u001b[0m: name 'e' is not defined"
     ]
    }
   ],
   "source": [
    "b[1] = e"
   ]
  },
  {
   "cell_type": "code",
   "execution_count": null,
   "id": "92c14697-873d-4155-ba58-19fd978d2c4f",
   "metadata": {},
   "outputs": [],
   "source": []
  }
 ],
 "metadata": {
  "kernelspec": {
   "display_name": "Python 3 (ipykernel)",
   "language": "python",
   "name": "python3"
  },
  "language_info": {
   "codemirror_mode": {
    "name": "ipython",
    "version": 3
   },
   "file_extension": ".py",
   "mimetype": "text/x-python",
   "name": "python",
   "nbconvert_exporter": "python",
   "pygments_lexer": "ipython3",
   "version": "3.10.8"
  }
 },
 "nbformat": 4,
 "nbformat_minor": 5
}
