{
 "cells": [
  {
   "cell_type": "markdown",
   "id": "9a8bf536-061a-48a4-a6ff-c4213798641a",
   "metadata": {},
   "source": [
    "Arithmetic operators"
   ]
  },
  {
   "cell_type": "code",
   "execution_count": 1,
   "id": "ff14421e-04ab-46c6-b5ff-416d8a5efaf7",
   "metadata": {},
   "outputs": [
    {
     "data": {
      "text/plain": [
       "3"
      ]
     },
     "execution_count": 1,
     "metadata": {},
     "output_type": "execute_result"
    }
   ],
   "source": [
    "1+2"
   ]
  },
  {
   "cell_type": "code",
   "execution_count": 2,
   "id": "e0066a0d-9ad4-4747-bc8e-533669c1c050",
   "metadata": {},
   "outputs": [
    {
     "data": {
      "text/plain": [
       "-1"
      ]
     },
     "execution_count": 2,
     "metadata": {},
     "output_type": "execute_result"
    }
   ],
   "source": [
    "1-2"
   ]
  },
  {
   "cell_type": "code",
   "execution_count": 3,
   "id": "0e9614fe-ea05-4db8-8100-3a8eb194f069",
   "metadata": {},
   "outputs": [
    {
     "data": {
      "text/plain": [
       "6"
      ]
     },
     "execution_count": 3,
     "metadata": {},
     "output_type": "execute_result"
    }
   ],
   "source": [
    "2*3"
   ]
  },
  {
   "cell_type": "code",
   "execution_count": 4,
   "id": "86c20b28-27e4-404b-acc4-02a3a2d67bf5",
   "metadata": {},
   "outputs": [
    {
     "data": {
      "text/plain": [
       "2.0"
      ]
     },
     "execution_count": 4,
     "metadata": {},
     "output_type": "execute_result"
    }
   ],
   "source": [
    "6/3"
   ]
  },
  {
   "cell_type": "code",
   "execution_count": 5,
   "id": "0870459e-132c-44a8-ab20-8b8b4735c1e7",
   "metadata": {},
   "outputs": [
    {
     "data": {
      "text/plain": [
       "1"
      ]
     },
     "execution_count": 5,
     "metadata": {},
     "output_type": "execute_result"
    }
   ],
   "source": [
    "1%4"
   ]
  },
  {
   "cell_type": "code",
   "execution_count": 6,
   "id": "581bf24f-7234-4f6b-b483-5f22c3124efd",
   "metadata": {},
   "outputs": [
    {
     "data": {
      "text/plain": [
       "1"
      ]
     },
     "execution_count": 6,
     "metadata": {},
     "output_type": "execute_result"
    }
   ],
   "source": [
    "5%4"
   ]
  },
  {
   "cell_type": "code",
   "execution_count": 7,
   "id": "db1b539d-e2df-49e2-a1bd-322794e6665e",
   "metadata": {},
   "outputs": [
    {
     "data": {
      "text/plain": [
       "1"
      ]
     },
     "execution_count": 7,
     "metadata": {},
     "output_type": "execute_result"
    }
   ],
   "source": [
    "5//4"
   ]
  },
  {
   "cell_type": "code",
   "execution_count": 8,
   "id": "ef1396f2-158c-4107-a23d-dd93ec5e749d",
   "metadata": {},
   "outputs": [
    {
     "data": {
      "text/plain": [
       "1"
      ]
     },
     "execution_count": 8,
     "metadata": {},
     "output_type": "execute_result"
    }
   ],
   "source": [
    "1**3"
   ]
  },
  {
   "cell_type": "code",
   "execution_count": 9,
   "id": "ded92b7a-53a3-4566-ba7f-575ca987a8b3",
   "metadata": {},
   "outputs": [
    {
     "data": {
      "text/plain": [
       "8"
      ]
     },
     "execution_count": 9,
     "metadata": {},
     "output_type": "execute_result"
    }
   ],
   "source": [
    "2**3"
   ]
  },
  {
   "cell_type": "code",
   "execution_count": 11,
   "id": "c45c303e-8364-47a2-9994-12c885c2ec5f",
   "metadata": {},
   "outputs": [
    {
     "data": {
      "text/plain": [
       "81"
      ]
     },
     "execution_count": 11,
     "metadata": {},
     "output_type": "execute_result"
    }
   ],
   "source": [
    "3**4"
   ]
  },
  {
   "cell_type": "raw",
   "id": "7e570d20-97a2-474b-80ed-1bd839c3ede7",
   "metadata": {},
   "source": [
    "3**4 Means: 3*3*3*3 = 81"
   ]
  },
  {
   "cell_type": "markdown",
   "id": "ebb73750-6f97-47ca-9def-bbb24ea45ccd",
   "metadata": {},
   "source": [
    "Comparison Operators"
   ]
  },
  {
   "cell_type": "code",
   "execution_count": 12,
   "id": "af9a5a7b-45c3-4ebd-ac19-91e8c2ecd668",
   "metadata": {},
   "outputs": [
    {
     "data": {
      "text/plain": [
       "False"
      ]
     },
     "execution_count": 12,
     "metadata": {},
     "output_type": "execute_result"
    }
   ],
   "source": [
    "1>2"
   ]
  },
  {
   "cell_type": "code",
   "execution_count": 14,
   "id": "23beee3c-65cc-4cc7-a19e-43c7aed36331",
   "metadata": {},
   "outputs": [
    {
     "data": {
      "text/plain": [
       "True"
      ]
     },
     "execution_count": 14,
     "metadata": {},
     "output_type": "execute_result"
    }
   ],
   "source": [
    "1<2"
   ]
  },
  {
   "cell_type": "code",
   "execution_count": 15,
   "id": "1de5d029-0aa5-444c-bc79-a8e6fb68c3b0",
   "metadata": {},
   "outputs": [
    {
     "data": {
      "text/plain": [
       "False"
      ]
     },
     "execution_count": 15,
     "metadata": {},
     "output_type": "execute_result"
    }
   ],
   "source": [
    "1==2"
   ]
  },
  {
   "cell_type": "code",
   "execution_count": 16,
   "id": "71696ebc-bbf4-4286-a0c3-eb2f7c4c19c0",
   "metadata": {},
   "outputs": [
    {
     "data": {
      "text/plain": [
       "True"
      ]
     },
     "execution_count": 16,
     "metadata": {},
     "output_type": "execute_result"
    }
   ],
   "source": [
    "1==1"
   ]
  },
  {
   "cell_type": "code",
   "execution_count": 17,
   "id": "8c0cbde3-e6a7-4fca-861e-15a220d4fe4b",
   "metadata": {},
   "outputs": [
    {
     "data": {
      "text/plain": [
       "False"
      ]
     },
     "execution_count": 17,
     "metadata": {},
     "output_type": "execute_result"
    }
   ],
   "source": [
    "2 !=2"
   ]
  },
  {
   "cell_type": "code",
   "execution_count": 18,
   "id": "70a9949d-1387-4384-b1e1-d11425e346c6",
   "metadata": {},
   "outputs": [
    {
     "data": {
      "text/plain": [
       "True"
      ]
     },
     "execution_count": 18,
     "metadata": {},
     "output_type": "execute_result"
    }
   ],
   "source": [
    "1 !=2"
   ]
  },
  {
   "cell_type": "raw",
   "id": "3a5ca4de-ac8a-43d0-a9d0-6695833a3213",
   "metadata": {},
   "source": [
    "! Means: Not, So 1 is not Equal to 2"
   ]
  },
  {
   "cell_type": "code",
   "execution_count": 19,
   "id": "d63dbbff-799e-405c-92ba-1066e5d2021d",
   "metadata": {},
   "outputs": [
    {
     "data": {
      "text/plain": [
       "True"
      ]
     },
     "execution_count": 19,
     "metadata": {},
     "output_type": "execute_result"
    }
   ],
   "source": [
    "2>=1"
   ]
  },
  {
   "cell_type": "code",
   "execution_count": 1,
   "id": "ccf83d26-7a68-4f4f-bc78-eb76b36b1e3d",
   "metadata": {},
   "outputs": [
    {
     "data": {
      "text/plain": [
       "False"
      ]
     },
     "execution_count": 1,
     "metadata": {},
     "output_type": "execute_result"
    }
   ],
   "source": [
    "2>2"
   ]
  },
  {
   "cell_type": "code",
   "execution_count": 2,
   "id": "cce77818-7fb4-4a6f-8438-e235c017d14c",
   "metadata": {},
   "outputs": [
    {
     "data": {
      "text/plain": [
       "True"
      ]
     },
     "execution_count": 2,
     "metadata": {},
     "output_type": "execute_result"
    }
   ],
   "source": [
    "2>=2"
   ]
  },
  {
   "cell_type": "code",
   "execution_count": 3,
   "id": "f887bfa0-b950-4abf-8a7a-4213e18f655f",
   "metadata": {},
   "outputs": [
    {
     "data": {
      "text/plain": [
       "False"
      ]
     },
     "execution_count": 3,
     "metadata": {},
     "output_type": "execute_result"
    }
   ],
   "source": [
    "3<3"
   ]
  },
  {
   "cell_type": "code",
   "execution_count": 4,
   "id": "e72e2000-c2bc-4766-91c0-5cd0fe45241a",
   "metadata": {},
   "outputs": [
    {
     "data": {
      "text/plain": [
       "True"
      ]
     },
     "execution_count": 4,
     "metadata": {},
     "output_type": "execute_result"
    }
   ],
   "source": [
    "3<=3"
   ]
  },
  {
   "cell_type": "markdown",
   "id": "a8480cb2-545d-4d45-8a79-277e440b211a",
   "metadata": {},
   "source": [
    "Logicial Operators"
   ]
  },
  {
   "cell_type": "raw",
   "id": "28b41930-838a-44c1-ba87-92252f2adc99",
   "metadata": {},
   "source": [
    "        And Gate                         Or Gate\n",
    "\n",
    "    1   1  - True - 1              1   1  - True - 1             \n",
    "    \n",
    "    1   0  - False - 0             1   0  - True - 1\n",
    "    \n",
    "    0   1  - False - 0             0   1  - True - 1\n",
    "    \n",
    "    0   0  - False - 0             0   0  - False - 0"
   ]
  },
  {
   "cell_type": "code",
   "execution_count": 5,
   "id": "591c1b51-e220-4273-9955-ce461452c2ee",
   "metadata": {},
   "outputs": [
    {
     "data": {
      "text/plain": [
       "True"
      ]
     },
     "execution_count": 5,
     "metadata": {},
     "output_type": "execute_result"
    }
   ],
   "source": [
    "True and True"
   ]
  },
  {
   "cell_type": "code",
   "execution_count": 6,
   "id": "742cba0b-9859-428e-a373-9a225ef0a397",
   "metadata": {},
   "outputs": [
    {
     "data": {
      "text/plain": [
       "False"
      ]
     },
     "execution_count": 6,
     "metadata": {},
     "output_type": "execute_result"
    }
   ],
   "source": [
    "True and False"
   ]
  },
  {
   "cell_type": "code",
   "execution_count": 7,
   "id": "531fa44a-d00e-4d1c-a434-0025d1a7ba43",
   "metadata": {},
   "outputs": [
    {
     "data": {
      "text/plain": [
       "0"
      ]
     },
     "execution_count": 7,
     "metadata": {},
     "output_type": "execute_result"
    }
   ],
   "source": [
    "1 and 0"
   ]
  },
  {
   "cell_type": "code",
   "execution_count": 8,
   "id": "5545ae35-782e-4b38-8e41-116457d82d0a",
   "metadata": {},
   "outputs": [
    {
     "data": {
      "text/plain": [
       "False"
      ]
     },
     "execution_count": 8,
     "metadata": {},
     "output_type": "execute_result"
    }
   ],
   "source": [
    "not True"
   ]
  },
  {
   "cell_type": "code",
   "execution_count": 9,
   "id": "f2ff2f46-9c4c-405d-8d24-d99ca9424c10",
   "metadata": {},
   "outputs": [
    {
     "data": {
      "text/plain": [
       "False"
      ]
     },
     "execution_count": 9,
     "metadata": {},
     "output_type": "execute_result"
    }
   ],
   "source": [
    "not 1"
   ]
  },
  {
   "cell_type": "code",
   "execution_count": 10,
   "id": "60d93acf-b518-46e7-891f-4d22bb62480b",
   "metadata": {},
   "outputs": [
    {
     "data": {
      "text/plain": [
       "1"
      ]
     },
     "execution_count": 10,
     "metadata": {},
     "output_type": "execute_result"
    }
   ],
   "source": [
    "1 or 0"
   ]
  },
  {
   "cell_type": "code",
   "execution_count": 11,
   "id": "cc40689d-286a-44a3-9696-894b22dda694",
   "metadata": {},
   "outputs": [
    {
     "data": {
      "text/plain": [
       "True"
      ]
     },
     "execution_count": 11,
     "metadata": {},
     "output_type": "execute_result"
    }
   ],
   "source": [
    "True or False"
   ]
  },
  {
   "cell_type": "code",
   "execution_count": 12,
   "id": "15859c6b-aa97-4835-9cdd-bdc94cc96166",
   "metadata": {},
   "outputs": [
    {
     "data": {
      "text/plain": [
       "False"
      ]
     },
     "execution_count": 12,
     "metadata": {},
     "output_type": "execute_result"
    }
   ],
   "source": [
    "False or False"
   ]
  },
  {
   "cell_type": "markdown",
   "id": "2bd73a73-35ec-49b8-9f55-cf814a6bf2d3",
   "metadata": {},
   "source": [
    "Bitwise Operators"
   ]
  },
  {
   "cell_type": "code",
   "execution_count": 13,
   "id": "3c0bd412-38f2-46e3-b9f5-960bab50b4cf",
   "metadata": {},
   "outputs": [
    {
     "data": {
      "text/plain": [
       "0"
      ]
     },
     "execution_count": 13,
     "metadata": {},
     "output_type": "execute_result"
    }
   ],
   "source": [
    "10 & 4"
   ]
  },
  {
   "cell_type": "code",
   "execution_count": 14,
   "id": "41753475-706b-4dfe-bef8-dd4ead5956df",
   "metadata": {},
   "outputs": [
    {
     "data": {
      "text/plain": [
       "'0b1010'"
      ]
     },
     "execution_count": 14,
     "metadata": {},
     "output_type": "execute_result"
    }
   ],
   "source": [
    "bin(10)"
   ]
  },
  {
   "cell_type": "code",
   "execution_count": 15,
   "id": "0b90b211-c840-4291-ab20-82552c72d489",
   "metadata": {},
   "outputs": [
    {
     "data": {
      "text/plain": [
       "'0b100'"
      ]
     },
     "execution_count": 15,
     "metadata": {},
     "output_type": "execute_result"
    }
   ],
   "source": [
    "bin (4)"
   ]
  },
  {
   "cell_type": "code",
   "execution_count": 16,
   "id": "3b4a5908-5aa2-403a-bb87-15ed8b65c9f2",
   "metadata": {},
   "outputs": [
    {
     "data": {
      "text/plain": [
       "20"
      ]
     },
     "execution_count": 16,
     "metadata": {},
     "output_type": "execute_result"
    }
   ],
   "source": [
    "23 & 20"
   ]
  },
  {
   "cell_type": "code",
   "execution_count": 17,
   "id": "6e41f88a-7026-40de-a4ae-34dec896b4e1",
   "metadata": {},
   "outputs": [
    {
     "data": {
      "text/plain": [
       "'0b10111'"
      ]
     },
     "execution_count": 17,
     "metadata": {},
     "output_type": "execute_result"
    }
   ],
   "source": [
    "bin(23)"
   ]
  },
  {
   "cell_type": "code",
   "execution_count": 18,
   "id": "7f8a4241-c722-4efe-b60f-f6d3fc0937bd",
   "metadata": {},
   "outputs": [
    {
     "data": {
      "text/plain": [
       "'0b10100'"
      ]
     },
     "execution_count": 18,
     "metadata": {},
     "output_type": "execute_result"
    }
   ],
   "source": [
    "bin(20)"
   ]
  },
  {
   "cell_type": "raw",
   "id": "35524f56-c745-424d-a0ff-6aeabf80c022",
   "metadata": {},
   "source": [
    "  bin(23) AND bin(20)  =  bin(20)\n",
    "\n",
    "   1            1           1\n",
    " \n",
    "   0            0           0       (10100 Is Equal To 20 So Answer Is 20)\n",
    " \n",
    "   1            1           1              (& Gate Process)\n",
    " \n",
    "   1            0           0\n",
    " \n",
    "   1            0           0   \n",
    " "
   ]
  },
  {
   "cell_type": "code",
   "execution_count": 19,
   "id": "8e23263f-f916-470e-8526-8083650a331f",
   "metadata": {},
   "outputs": [
    {
     "data": {
      "text/plain": [
       "15"
      ]
     },
     "execution_count": 19,
     "metadata": {},
     "output_type": "execute_result"
    }
   ],
   "source": [
    "11 | 6"
   ]
  },
  {
   "cell_type": "code",
   "execution_count": 20,
   "id": "d12979cb-4816-45dd-a014-1acd85a68991",
   "metadata": {},
   "outputs": [
    {
     "data": {
      "text/plain": [
       "'0b1011'"
      ]
     },
     "execution_count": 20,
     "metadata": {},
     "output_type": "execute_result"
    }
   ],
   "source": [
    "bin(11)"
   ]
  },
  {
   "cell_type": "code",
   "execution_count": 21,
   "id": "13475ac8-05d7-47b6-8922-2a575244ec64",
   "metadata": {},
   "outputs": [
    {
     "data": {
      "text/plain": [
       "'0b110'"
      ]
     },
     "execution_count": 21,
     "metadata": {},
     "output_type": "execute_result"
    }
   ],
   "source": [
    "bin(6)"
   ]
  },
  {
   "cell_type": "code",
   "execution_count": 22,
   "id": "66a22e5e-a687-4bd3-b6cb-000f9554bb8b",
   "metadata": {},
   "outputs": [
    {
     "data": {
      "text/plain": [
       "'0b1111'"
      ]
     },
     "execution_count": 22,
     "metadata": {},
     "output_type": "execute_result"
    }
   ],
   "source": [
    "bin(15)"
   ]
  },
  {
   "cell_type": "raw",
   "id": "eae758ab-47ac-4bc9-91d3-8179c422b780",
   "metadata": {},
   "source": [
    "   bin(11) | bin(6)  =  bin(15)\n",
    "   \n",
    "     1        0           1\n",
    "     \n",
    "     0        1           1       (After Or(|) Gate Process 1111 Is Equal To Bin(15)\n",
    "     \n",
    "     1        1           1\n",
    "     \n",
    "     1        0           1"
   ]
  },
  {
   "cell_type": "code",
   "execution_count": 23,
   "id": "7baa3029-91fd-45b2-b0d0-a79ebf3348e0",
   "metadata": {},
   "outputs": [
    {
     "data": {
      "text/plain": [
       "-13"
      ]
     },
     "execution_count": 23,
     "metadata": {},
     "output_type": "execute_result"
    }
   ],
   "source": [
    "~12"
   ]
  },
  {
   "cell_type": "code",
   "execution_count": 24,
   "id": "4ba5c98f-1fce-4221-95ae-4f52a296a6b4",
   "metadata": {},
   "outputs": [
    {
     "data": {
      "text/plain": [
       "'0b1100'"
      ]
     },
     "execution_count": 24,
     "metadata": {},
     "output_type": "execute_result"
    }
   ],
   "source": [
    "bin(12)"
   ]
  },
  {
   "cell_type": "code",
   "execution_count": 25,
   "id": "36a7af6a-e3d2-4d57-a28f-68c8e09b7f31",
   "metadata": {},
   "outputs": [
    {
     "data": {
      "text/plain": [
       "'-0b1101'"
      ]
     },
     "execution_count": 25,
     "metadata": {},
     "output_type": "execute_result"
    }
   ],
   "source": [
    "bin(-13)"
   ]
  },
  {
   "cell_type": "code",
   "execution_count": 29,
   "id": "6005be03-0644-4ae3-8925-d1ee2e7ea74c",
   "metadata": {},
   "outputs": [
    {
     "data": {
      "text/plain": [
       "-21"
      ]
     },
     "execution_count": 29,
     "metadata": {},
     "output_type": "execute_result"
    }
   ],
   "source": [
    "~20"
   ]
  },
  {
   "cell_type": "code",
   "execution_count": 30,
   "id": "574fdc8a-a17a-45ac-bcbf-a40482a11a44",
   "metadata": {
    "jp-MarkdownHeadingCollapsed": true,
    "tags": []
   },
   "outputs": [
    {
     "data": {
      "text/plain": [
       "'0b10100'"
      ]
     },
     "execution_count": 30,
     "metadata": {},
     "output_type": "execute_result"
    }
   ],
   "source": [
    "bin(20)"
   ]
  },
  {
   "cell_type": "code",
   "execution_count": 31,
   "id": "3166d355-07c0-4eb1-b32c-08718e269d1b",
   "metadata": {},
   "outputs": [
    {
     "data": {
      "text/plain": [
       "'-0b10101'"
      ]
     },
     "execution_count": 31,
     "metadata": {},
     "output_type": "execute_result"
    }
   ],
   "source": [
    "bin(-21)"
   ]
  },
  {
   "cell_type": "raw",
   "id": "dc884217-0d9b-4459-a2f2-d9b25be12241",
   "metadata": {},
   "source": [
    "  - (10100+1) = -21"
   ]
  },
  {
   "cell_type": "markdown",
   "id": "a9c1bd00-e6da-44a1-a331-2cd8620bd426",
   "metadata": {},
   "source": [
    "Right Shift & Left Shift Operators"
   ]
  },
  {
   "cell_type": "code",
   "execution_count": 34,
   "id": "3c07952b-0143-40d0-81d2-72df18c5545e",
   "metadata": {},
   "outputs": [],
   "source": [
    "a = 8"
   ]
  },
  {
   "cell_type": "code",
   "execution_count": 35,
   "id": "33c41632-c495-407b-a752-f8217f2530df",
   "metadata": {},
   "outputs": [
    {
     "data": {
      "text/plain": [
       "2"
      ]
     },
     "execution_count": 35,
     "metadata": {},
     "output_type": "execute_result"
    }
   ],
   "source": [
    "a >> 2"
   ]
  },
  {
   "cell_type": "code",
   "execution_count": 36,
   "id": "4539d9cc-d8d0-453d-8917-1d3205f4718b",
   "metadata": {},
   "outputs": [
    {
     "data": {
      "text/plain": [
       "1"
      ]
     },
     "execution_count": 36,
     "metadata": {},
     "output_type": "execute_result"
    }
   ],
   "source": [
    "a >> 3"
   ]
  },
  {
   "cell_type": "code",
   "execution_count": 37,
   "id": "c7f1c27b-ae1e-4a51-9a5a-234429a11f15",
   "metadata": {},
   "outputs": [
    {
     "data": {
      "text/plain": [
       "0"
      ]
     },
     "execution_count": 37,
     "metadata": {},
     "output_type": "execute_result"
    }
   ],
   "source": [
    "a >> 4"
   ]
  },
  {
   "cell_type": "code",
   "execution_count": 38,
   "id": "a8d37026-8187-4f5a-ba23-f429184c85e9",
   "metadata": {},
   "outputs": [
    {
     "data": {
      "text/plain": [
       "'0b1000'"
      ]
     },
     "execution_count": 38,
     "metadata": {},
     "output_type": "execute_result"
    }
   ],
   "source": [
    "bin(a)"
   ]
  },
  {
   "cell_type": "code",
   "execution_count": 1,
   "id": "61879d6b-8ea4-4990-a375-f4599ee8e004",
   "metadata": {},
   "outputs": [
    {
     "data": {
      "text/plain": [
       "'0b10'"
      ]
     },
     "execution_count": 1,
     "metadata": {},
     "output_type": "execute_result"
    }
   ],
   "source": [
    "bin(2)"
   ]
  },
  {
   "cell_type": "raw",
   "id": "7978cc2e-df21-4239-bbb3-0d6a03eb89be",
   "metadata": {},
   "source": [
    "  bin(a) = 1000 After Right Shift\n",
    "  \n",
    "  a >> 2 - 2(10) Double 00 Out The End Of Right Shift\n",
    "  \n",
    "  a >> 3 - 1 Tripal 000 Out The End Of Right Shift\n",
    "  \n",
    "  a >> 4 - 0  For 0000 Out The End Of Right Shift"
   ]
  },
  {
   "cell_type": "code",
   "execution_count": 4,
   "id": "55555b2a-e413-4546-a71f-b86ab30e9466",
   "metadata": {},
   "outputs": [
    {
     "data": {
      "text/plain": [
       "80"
      ]
     },
     "execution_count": 4,
     "metadata": {},
     "output_type": "execute_result"
    }
   ],
   "source": [
    "20 << 2"
   ]
  },
  {
   "cell_type": "code",
   "execution_count": 5,
   "id": "eaa949c1-1b86-454a-bfdf-a7293e9e9f89",
   "metadata": {},
   "outputs": [
    {
     "data": {
      "text/plain": [
       "160"
      ]
     },
     "execution_count": 5,
     "metadata": {},
     "output_type": "execute_result"
    }
   ],
   "source": [
    "20 << 3"
   ]
  },
  {
   "cell_type": "code",
   "execution_count": 6,
   "id": "5e08c480-a055-4c37-a506-557763dacca6",
   "metadata": {},
   "outputs": [
    {
     "data": {
      "text/plain": [
       "320"
      ]
     },
     "execution_count": 6,
     "metadata": {},
     "output_type": "execute_result"
    }
   ],
   "source": [
    "20 << 4"
   ]
  },
  {
   "cell_type": "code",
   "execution_count": 7,
   "id": "47c557ec-3829-40e1-8620-f2ed0fa35485",
   "metadata": {},
   "outputs": [
    {
     "data": {
      "text/plain": [
       "'0b10100'"
      ]
     },
     "execution_count": 7,
     "metadata": {},
     "output_type": "execute_result"
    }
   ],
   "source": [
    "bin(20)"
   ]
  },
  {
   "cell_type": "code",
   "execution_count": 8,
   "id": "5e32a106-b5bd-4df4-8411-f8aba06936d2",
   "metadata": {},
   "outputs": [
    {
     "data": {
      "text/plain": [
       "'0b1010000'"
      ]
     },
     "execution_count": 8,
     "metadata": {},
     "output_type": "execute_result"
    }
   ],
   "source": [
    "bin(80)"
   ]
  },
  {
   "cell_type": "code",
   "execution_count": 9,
   "id": "a44adae7-3364-459f-9465-4a6208359ae8",
   "metadata": {},
   "outputs": [
    {
     "data": {
      "text/plain": [
       "'0b10100000'"
      ]
     },
     "execution_count": 9,
     "metadata": {},
     "output_type": "execute_result"
    }
   ],
   "source": [
    "bin(160)"
   ]
  },
  {
   "cell_type": "code",
   "execution_count": 10,
   "id": "6224c5a7-e958-41d8-87ec-a04793291c08",
   "metadata": {},
   "outputs": [
    {
     "data": {
      "text/plain": [
       "'0b101000000'"
      ]
     },
     "execution_count": 10,
     "metadata": {},
     "output_type": "execute_result"
    }
   ],
   "source": [
    "bin(320)"
   ]
  },
  {
   "cell_type": "raw",
   "id": "8d72b895-096e-4de6-a440-92a23e9fb4a2",
   "metadata": {},
   "source": [
    "  bin(20) - 10100 After Left Shift \n",
    "  \n",
    "  20 << 2 - 1010000 Double 00 In The End Of Left shift  & This Bainari Is Equal To bin(80)\n",
    "  \n",
    "  20 << 3 - 10100000 Tripal 000 In The End Of Left Shift & This Bainari Is Equal To bin(160)\n",
    "  \n",
    "  20 << 4 - 101000000 For 0000 In The End Of Left Shift & This Bainari Is Equal To Bin(320)"
   ]
  },
  {
   "cell_type": "markdown",
   "id": "0efe0758-0146-4b9e-b174-ab3a3376e6a8",
   "metadata": {},
   "source": [
    "Add Assignment Operators"
   ]
  },
  {
   "cell_type": "code",
   "execution_count": 11,
   "id": "3218cc6d-059f-4e3b-bac5-a39d3e822f32",
   "metadata": {},
   "outputs": [],
   "source": [
    "a = 10"
   ]
  },
  {
   "cell_type": "code",
   "execution_count": 12,
   "id": "7db65f2a-4500-469f-8a96-446938dd4e58",
   "metadata": {},
   "outputs": [],
   "source": [
    "a = a + 1"
   ]
  },
  {
   "cell_type": "code",
   "execution_count": 14,
   "id": "b8ee8aba-018f-432d-bf31-fb8f522e6f71",
   "metadata": {},
   "outputs": [
    {
     "data": {
      "text/plain": [
       "11"
      ]
     },
     "execution_count": 14,
     "metadata": {},
     "output_type": "execute_result"
    }
   ],
   "source": [
    "a"
   ]
  },
  {
   "cell_type": "code",
   "execution_count": 15,
   "id": "c5024d16-4e6d-4e2a-9986-5efbb72167b2",
   "metadata": {},
   "outputs": [],
   "source": [
    "a += 1"
   ]
  },
  {
   "cell_type": "code",
   "execution_count": 16,
   "id": "aaf3a206-ee77-441f-9637-59585ddbcfef",
   "metadata": {},
   "outputs": [
    {
     "data": {
      "text/plain": [
       "12"
      ]
     },
     "execution_count": 16,
     "metadata": {},
     "output_type": "execute_result"
    }
   ],
   "source": [
    "a"
   ]
  },
  {
   "cell_type": "code",
   "execution_count": 17,
   "id": "84640a4e-f63a-4c1b-879f-36144fa56160",
   "metadata": {},
   "outputs": [],
   "source": [
    "b = 14"
   ]
  },
  {
   "cell_type": "code",
   "execution_count": 18,
   "id": "0b0fa645-f746-4fde-b2e6-983e2840dd3f",
   "metadata": {},
   "outputs": [],
   "source": [
    "b = b + 1"
   ]
  },
  {
   "cell_type": "code",
   "execution_count": 19,
   "id": "18f582be-2d57-4cc9-83cb-02728f5c7cf9",
   "metadata": {},
   "outputs": [
    {
     "data": {
      "text/plain": [
       "15"
      ]
     },
     "execution_count": 19,
     "metadata": {},
     "output_type": "execute_result"
    }
   ],
   "source": [
    "b"
   ]
  },
  {
   "cell_type": "code",
   "execution_count": 20,
   "id": "2fc25a9a-cfea-47b5-82f9-6609d4537278",
   "metadata": {},
   "outputs": [],
   "source": [
    "b += 1"
   ]
  },
  {
   "cell_type": "code",
   "execution_count": 21,
   "id": "f8d7fc1a-35c2-4f35-b8b7-281ad056aa55",
   "metadata": {},
   "outputs": [
    {
     "data": {
      "text/plain": [
       "16"
      ]
     },
     "execution_count": 21,
     "metadata": {},
     "output_type": "execute_result"
    }
   ],
   "source": [
    "b"
   ]
  },
  {
   "cell_type": "code",
   "execution_count": 22,
   "id": "662dc9fb-e959-4fbf-beae-2ac06d9229e1",
   "metadata": {},
   "outputs": [],
   "source": [
    "c = 20"
   ]
  },
  {
   "cell_type": "code",
   "execution_count": 23,
   "id": "749f1141-c1df-4469-8ee8-3c4a6e5cd69d",
   "metadata": {},
   "outputs": [],
   "source": [
    "c = c-1"
   ]
  },
  {
   "cell_type": "code",
   "execution_count": 24,
   "id": "cfe3dd6e-c246-4906-8148-3058586eab99",
   "metadata": {},
   "outputs": [
    {
     "data": {
      "text/plain": [
       "19"
      ]
     },
     "execution_count": 24,
     "metadata": {},
     "output_type": "execute_result"
    }
   ],
   "source": [
    "c"
   ]
  },
  {
   "cell_type": "code",
   "execution_count": 25,
   "id": "b67a30d1-a451-4f4f-9349-bccc1fe1d1be",
   "metadata": {},
   "outputs": [],
   "source": [
    "c -= 1"
   ]
  },
  {
   "cell_type": "code",
   "execution_count": 26,
   "id": "0d913d44-5fb2-4004-a164-09730f50349a",
   "metadata": {},
   "outputs": [
    {
     "data": {
      "text/plain": [
       "18"
      ]
     },
     "execution_count": 26,
     "metadata": {},
     "output_type": "execute_result"
    }
   ],
   "source": [
    "c"
   ]
  },
  {
   "cell_type": "code",
   "execution_count": 27,
   "id": "2459479b-ccb3-4942-b40a-3ec8c32da538",
   "metadata": {},
   "outputs": [],
   "source": [
    "d = 2"
   ]
  },
  {
   "cell_type": "code",
   "execution_count": 28,
   "id": "3cf82229-0762-4c08-a478-10e8f3e3974e",
   "metadata": {},
   "outputs": [],
   "source": [
    "d = d*2"
   ]
  },
  {
   "cell_type": "code",
   "execution_count": null,
   "id": "968b3fc8-dd61-4645-bc46-740f05c35f53",
   "metadata": {},
   "outputs": [],
   "source": []
  }
 ],
 "metadata": {
  "kernelspec": {
   "display_name": "Python 3 (ipykernel)",
   "language": "python",
   "name": "python3"
  },
  "language_info": {
   "codemirror_mode": {
    "name": "ipython",
    "version": 3
   },
   "file_extension": ".py",
   "mimetype": "text/x-python",
   "name": "python",
   "nbconvert_exporter": "python",
   "pygments_lexer": "ipython3",
   "version": "3.10.8"
  }
 },
 "nbformat": 4,
 "nbformat_minor": 5
}
