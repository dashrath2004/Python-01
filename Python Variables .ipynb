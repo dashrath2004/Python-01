{
 "cells": [
  {
   "cell_type": "code",
   "execution_count": 1,
   "id": "24f97a94-56b4-41db-93cd-7e0a8bee639d",
   "metadata": {},
   "outputs": [],
   "source": [
    "a = 1"
   ]
  },
  {
   "cell_type": "code",
   "execution_count": 2,
   "id": "1a3cc91e-6040-49a4-9db8-8f8ee75a9706",
   "metadata": {},
   "outputs": [
    {
     "data": {
      "text/plain": [
       "1"
      ]
     },
     "execution_count": 2,
     "metadata": {},
     "output_type": "execute_result"
    }
   ],
   "source": [
    "a"
   ]
  },
  {
   "cell_type": "code",
   "execution_count": 3,
   "id": "d8e8f5a5-472b-497a-9ea6-b2afeaea1637",
   "metadata": {},
   "outputs": [
    {
     "data": {
      "text/plain": [
       "int"
      ]
     },
     "execution_count": 3,
     "metadata": {},
     "output_type": "execute_result"
    }
   ],
   "source": [
    "type(a)"
   ]
  },
  {
   "cell_type": "code",
   "execution_count": 4,
   "id": "d9df5434-af96-4c4a-83ad-4317e62ee480",
   "metadata": {},
   "outputs": [],
   "source": [
    "b = \"dash\""
   ]
  },
  {
   "cell_type": "code",
   "execution_count": 5,
   "id": "4ef2d3a6-ebd1-4900-a6ec-1c20f61e7435",
   "metadata": {},
   "outputs": [
    {
     "data": {
      "text/plain": [
       "str"
      ]
     },
     "execution_count": 5,
     "metadata": {},
     "output_type": "execute_result"
    }
   ],
   "source": [
    "type(b)"
   ]
  },
  {
   "cell_type": "code",
   "execution_count": 6,
   "id": "4083ae29-dc3e-4fbc-9c18-05491af11b56",
   "metadata": {},
   "outputs": [],
   "source": [
    "c = 45.22"
   ]
  },
  {
   "cell_type": "code",
   "execution_count": 7,
   "id": "0bdc7bfb-8827-4459-add3-a5e962d5c084",
   "metadata": {},
   "outputs": [
    {
     "data": {
      "text/plain": [
       "float"
      ]
     },
     "execution_count": 7,
     "metadata": {},
     "output_type": "execute_result"
    }
   ],
   "source": [
    "type(c)"
   ]
  },
  {
   "cell_type": "code",
   "execution_count": 8,
   "id": "b35b6a8a-cf8b-4d96-bc84-0d0b502c1925",
   "metadata": {},
   "outputs": [],
   "source": [
    "daksh = 5500"
   ]
  },
  {
   "cell_type": "code",
   "execution_count": 9,
   "id": "c5e27061-7129-4a64-904c-e2657926cdfc",
   "metadata": {},
   "outputs": [
    {
     "data": {
      "text/plain": [
       "5500"
      ]
     },
     "execution_count": 9,
     "metadata": {},
     "output_type": "execute_result"
    }
   ],
   "source": [
    "daksh"
   ]
  },
  {
   "cell_type": "code",
   "execution_count": 10,
   "id": "fb359cd6-b4c7-4751-8aa7-c94bc238d068",
   "metadata": {},
   "outputs": [
    {
     "data": {
      "text/plain": [
       "int"
      ]
     },
     "execution_count": 10,
     "metadata": {},
     "output_type": "execute_result"
    }
   ],
   "source": [
    "type(daksh)"
   ]
  },
  {
   "cell_type": "code",
   "execution_count": 12,
   "id": "5ac3d987-225c-4bac-8ceb-7e5bf820536d",
   "metadata": {},
   "outputs": [],
   "source": [
    "d = True"
   ]
  },
  {
   "cell_type": "code",
   "execution_count": 14,
   "id": "4132c158-8b3f-468d-87eb-7f1d3a9b5498",
   "metadata": {},
   "outputs": [
    {
     "data": {
      "text/plain": [
       "bool"
      ]
     },
     "execution_count": 14,
     "metadata": {},
     "output_type": "execute_result"
    }
   ],
   "source": [
    "type(d)"
   ]
  },
  {
   "cell_type": "code",
   "execution_count": 15,
   "id": "47a11bbb-8dc6-40ab-983d-0375ccdaaba1",
   "metadata": {},
   "outputs": [],
   "source": [
    "e = False"
   ]
  },
  {
   "cell_type": "code",
   "execution_count": 16,
   "id": "7e031820-00a9-44a6-b94c-2584a55eb919",
   "metadata": {},
   "outputs": [
    {
     "data": {
      "text/plain": [
       "bool"
      ]
     },
     "execution_count": 16,
     "metadata": {},
     "output_type": "execute_result"
    }
   ],
   "source": [
    "type(e)"
   ]
  },
  {
   "cell_type": "code",
   "execution_count": 20,
   "id": "d4a753f0-8c98-4911-b810-e315abe358b7",
   "metadata": {},
   "outputs": [
    {
     "data": {
      "text/plain": [
       "1"
      ]
     },
     "execution_count": 20,
     "metadata": {},
     "output_type": "execute_result"
    }
   ],
   "source": [
    "True-False"
   ]
  },
  {
   "cell_type": "code",
   "execution_count": 21,
   "id": "b4c398ea-a079-4614-b01a-655787ff99d0",
   "metadata": {},
   "outputs": [
    {
     "data": {
      "text/plain": [
       "0"
      ]
     },
     "execution_count": 21,
     "metadata": {},
     "output_type": "execute_result"
    }
   ],
   "source": [
    "True*False"
   ]
  },
  {
   "cell_type": "code",
   "execution_count": 22,
   "id": "ba9af73c-ceee-4d95-b54b-d6b35e15dedd",
   "metadata": {},
   "outputs": [
    {
     "ename": "ZeroDivisionError",
     "evalue": "division by zero",
     "output_type": "error",
     "traceback": [
      "\u001b[0;31m---------------------------------------------------------------------------\u001b[0m",
      "\u001b[0;31mZeroDivisionError\u001b[0m                         Traceback (most recent call last)",
      "Cell \u001b[0;32mIn[22], line 1\u001b[0m\n\u001b[0;32m----> 1\u001b[0m \u001b[38;5;28;43;01mTrue\u001b[39;49;00m\u001b[38;5;241;43m/\u001b[39;49m\u001b[38;5;28;43;01mFalse\u001b[39;49;00m\n",
      "\u001b[0;31mZeroDivisionError\u001b[0m: division by zero"
     ]
    }
   ],
   "source": [
    "True/False"
   ]
  },
  {
   "cell_type": "markdown",
   "id": "8e43997a-9fbb-4afc-bbad-adb528febb05",
   "metadata": {},
   "source": [
    "True Means 1 & False Means 0"
   ]
  },
  {
   "cell_type": "code",
   "execution_count": 25,
   "id": "5860d614-1a12-4030-9265-f8c693623c96",
   "metadata": {},
   "outputs": [],
   "source": [
    "f = 8 + 6j"
   ]
  },
  {
   "cell_type": "code",
   "execution_count": 26,
   "id": "4bb8990e-7bc2-4dbf-8409-5d28d1948fe4",
   "metadata": {},
   "outputs": [
    {
     "data": {
      "text/plain": [
       "complex"
      ]
     },
     "execution_count": 26,
     "metadata": {},
     "output_type": "execute_result"
    }
   ],
   "source": [
    "type(f)"
   ]
  },
  {
   "cell_type": "markdown",
   "id": "93a651b3-a426-483a-ae4c-c1e1102176db",
   "metadata": {},
   "source": [
    "imaginary number only for j in python"
   ]
  },
  {
   "cell_type": "code",
   "execution_count": 27,
   "id": "434c7778-97d7-4df6-9b15-0c4b53bb0a59",
   "metadata": {},
   "outputs": [
    {
     "ename": "SyntaxError",
     "evalue": "invalid decimal literal (3546934180.py, line 1)",
     "output_type": "error",
     "traceback": [
      "\u001b[0;36m  Cell \u001b[0;32mIn[27], line 1\u001b[0;36m\u001b[0m\n\u001b[0;31m    g = 2 + 4i\u001b[0m\n\u001b[0m            ^\u001b[0m\n\u001b[0;31mSyntaxError\u001b[0m\u001b[0;31m:\u001b[0m invalid decimal literal\n"
     ]
    }
   ],
   "source": [
    "g = 2 + 4i"
   ]
  },
  {
   "cell_type": "code",
   "execution_count": 28,
   "id": "0fb04345-9d23-4d1b-bc51-44ae8f384da5",
   "metadata": {},
   "outputs": [],
   "source": [
    "h = 6+9j"
   ]
  },
  {
   "cell_type": "code",
   "execution_count": 29,
   "id": "077b1e4e-13b9-4853-9c80-4392cdffc64f",
   "metadata": {},
   "outputs": [
    {
     "data": {
      "text/plain": [
       "complex"
      ]
     },
     "execution_count": 29,
     "metadata": {},
     "output_type": "execute_result"
    }
   ],
   "source": [
    "type(h)"
   ]
  },
  {
   "cell_type": "code",
   "execution_count": 30,
   "id": "a699ae25-abc7-450c-8344-6cb868d4b3fc",
   "metadata": {},
   "outputs": [
    {
     "data": {
      "text/plain": [
       "6.0"
      ]
     },
     "execution_count": 30,
     "metadata": {},
     "output_type": "execute_result"
    }
   ],
   "source": [
    "h.real"
   ]
  },
  {
   "cell_type": "code",
   "execution_count": 31,
   "id": "0c6c39a2-85d4-43c5-8311-e639bf521619",
   "metadata": {},
   "outputs": [
    {
     "data": {
      "text/plain": [
       "9.0"
      ]
     },
     "execution_count": 31,
     "metadata": {},
     "output_type": "execute_result"
    }
   ],
   "source": [
    "h.imag"
   ]
  },
  {
   "cell_type": "code",
   "execution_count": 32,
   "id": "41724c8d-dac2-42c5-9f67-1b445defe06e",
   "metadata": {},
   "outputs": [
    {
     "ename": "SyntaxError",
     "evalue": "cannot assign to literal here. Maybe you meant '==' instead of '='? (2135159914.py, line 1)",
     "output_type": "error",
     "traceback": [
      "\u001b[0;36m  Cell \u001b[0;32mIn[32], line 1\u001b[0;36m\u001b[0m\n\u001b[0;31m    654 = 544\u001b[0m\n\u001b[0m    ^\u001b[0m\n\u001b[0;31mSyntaxError\u001b[0m\u001b[0;31m:\u001b[0m cannot assign to literal here. Maybe you meant '==' instead of '='?\n"
     ]
    }
   ],
   "source": [
    "654 = 544"
   ]
  },
  {
   "cell_type": "code",
   "execution_count": 33,
   "id": "8c9b3ff9-a3b3-4ba2-9189-fe4361c8384e",
   "metadata": {},
   "outputs": [
    {
     "ename": "SyntaxError",
     "evalue": "invalid decimal literal (2552336838.py, line 1)",
     "output_type": "error",
     "traceback": [
      "\u001b[0;36m  Cell \u001b[0;32mIn[33], line 1\u001b[0;36m\u001b[0m\n\u001b[0;31m    45ds = 45\u001b[0m\n\u001b[0m     ^\u001b[0m\n\u001b[0;31mSyntaxError\u001b[0m\u001b[0;31m:\u001b[0m invalid decimal literal\n"
     ]
    }
   ],
   "source": [
    "45ds = 45"
   ]
  },
  {
   "cell_type": "code",
   "execution_count": 34,
   "id": "9a0e40a9-0d73-44d0-9baa-56cb62fa7b9c",
   "metadata": {},
   "outputs": [
    {
     "ename": "SyntaxError",
     "evalue": "invalid syntax (2423245042.py, line 1)",
     "output_type": "error",
     "traceback": [
      "\u001b[0;36m  Cell \u001b[0;32mIn[34], line 1\u001b[0;36m\u001b[0m\n\u001b[0;31m    $22 = 98\u001b[0m\n\u001b[0m    ^\u001b[0m\n\u001b[0;31mSyntaxError\u001b[0m\u001b[0;31m:\u001b[0m invalid syntax\n"
     ]
    }
   ],
   "source": [
    "$22 = 98"
   ]
  },
  {
   "cell_type": "code",
   "execution_count": 35,
   "id": "7d0aa613-5f27-4f87-bf25-3456547f0874",
   "metadata": {},
   "outputs": [],
   "source": [
    "#77 = 40"
   ]
  },
  {
   "cell_type": "code",
   "execution_count": 36,
   "id": "734a7c3f-d1c4-4afd-9c4c-0b30ca46bfb0",
   "metadata": {},
   "outputs": [
    {
     "name": "stderr",
     "output_type": "stream",
     "text": [
      "UsageError: Line magic function `%a` not found.\n"
     ]
    }
   ],
   "source": [
    "%a = 80"
   ]
  },
  {
   "cell_type": "code",
   "execution_count": 38,
   "id": "c1f0e38b-499c-470c-8df0-4871cf93f563",
   "metadata": {},
   "outputs": [],
   "source": [
    "_a = 18"
   ]
  },
  {
   "cell_type": "code",
   "execution_count": null,
   "id": "001abe7e-3e2e-4646-84e9-18f993c47195",
   "metadata": {},
   "outputs": [],
   "source": [
    "_a"
   ]
  },
  {
   "cell_type": "code",
   "execution_count": null,
   "id": "1cca5a43-e94a-4972-8c64-281621d711a7",
   "metadata": {},
   "outputs": [],
   "source": []
  }
 ],
 "metadata": {
  "kernelspec": {
   "display_name": "Python 3 (ipykernel)",
   "language": "python",
   "name": "python3"
  },
  "language_info": {
   "codemirror_mode": {
    "name": "ipython",
    "version": 3
   },
   "file_extension": ".py",
   "mimetype": "text/x-python",
   "name": "python",
   "nbconvert_exporter": "python",
   "pygments_lexer": "ipython3",
   "version": "3.10.8"
  }
 },
 "nbformat": 4,
 "nbformat_minor": 5
}
