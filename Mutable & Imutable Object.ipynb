{
 "cells": [
  {
   "cell_type": "code",
   "execution_count": 1,
   "id": "2a3735d4-9cd3-4439-a4e7-0a660510aba4",
   "metadata": {},
   "outputs": [],
   "source": [
    "s1 = 'monu'"
   ]
  },
  {
   "cell_type": "code",
   "execution_count": 2,
   "id": "fe6e77b3-6a0d-4ba0-ae8f-14564efbe270",
   "metadata": {},
   "outputs": [
    {
     "data": {
      "text/plain": [
       "str"
      ]
     },
     "execution_count": 2,
     "metadata": {},
     "output_type": "execute_result"
    }
   ],
   "source": [
    "type(s1)"
   ]
  },
  {
   "cell_type": "code",
   "execution_count": 3,
   "id": "fd5aa228-a375-461c-9de9-6ef7faf80d6c",
   "metadata": {},
   "outputs": [],
   "source": [
    "l = [2,3,4,'monu' , True , 50.22]"
   ]
  },
  {
   "cell_type": "code",
   "execution_count": 4,
   "id": "ed1fba5f-9751-411a-947c-e20e91fff159",
   "metadata": {},
   "outputs": [
    {
     "data": {
      "text/plain": [
       "list"
      ]
     },
     "execution_count": 4,
     "metadata": {},
     "output_type": "execute_result"
    }
   ],
   "source": [
    "type(l)"
   ]
  },
  {
   "cell_type": "code",
   "execution_count": 5,
   "id": "1949483b-34f7-4f9d-9c18-225e06d88802",
   "metadata": {},
   "outputs": [],
   "source": [
    "s = 'daksh'"
   ]
  },
  {
   "cell_type": "code",
   "execution_count": 6,
   "id": "37b2a788-bd65-4c83-8542-1646440eca9d",
   "metadata": {},
   "outputs": [
    {
     "data": {
      "text/plain": [
       "'daksh'"
      ]
     },
     "execution_count": 6,
     "metadata": {},
     "output_type": "execute_result"
    }
   ],
   "source": [
    "s"
   ]
  },
  {
   "cell_type": "code",
   "execution_count": 7,
   "id": "478ed7ea-7de6-4f4c-bc74-be3b60be35f7",
   "metadata": {},
   "outputs": [
    {
     "data": {
      "text/plain": [
       "'d'"
      ]
     },
     "execution_count": 7,
     "metadata": {},
     "output_type": "execute_result"
    }
   ],
   "source": [
    "s[0]"
   ]
  },
  {
   "cell_type": "code",
   "execution_count": 8,
   "id": "c19198d2-1949-4af5-8721-18ce902c517a",
   "metadata": {},
   "outputs": [
    {
     "data": {
      "text/plain": [
       "'k'"
      ]
     },
     "execution_count": 8,
     "metadata": {},
     "output_type": "execute_result"
    }
   ],
   "source": [
    "s[2]"
   ]
  },
  {
   "cell_type": "code",
   "execution_count": 9,
   "id": "d46a54b3-de50-45d1-9fec-259ee87c84ec",
   "metadata": {},
   "outputs": [
    {
     "data": {
      "text/plain": [
       "[2, 3, 4, 'monu', True, 50.22]"
      ]
     },
     "execution_count": 9,
     "metadata": {},
     "output_type": "execute_result"
    }
   ],
   "source": [
    "p"
   ]
  },
  {
   "cell_type": "code",
   "execution_count": 10,
   "id": "e1280445-4538-4866-830c-f96cbf5d7adb",
   "metadata": {},
   "outputs": [
    {
     "data": {
      "text/plain": [
       "'monu'"
      ]
     },
     "execution_count": 10,
     "metadata": {},
     "output_type": "execute_result"
    }
   ],
   "source": [
    "p[-3]"
   ]
  },
  {
   "cell_type": "code",
   "execution_count": 11,
   "id": "1e705c44-42b6-48e3-81b6-19dd67bd3395",
   "metadata": {},
   "outputs": [
    {
     "data": {
      "text/plain": [
       "4"
      ]
     },
     "execution_count": 11,
     "metadata": {},
     "output_type": "execute_result"
    }
   ],
   "source": [
    "p[2]"
   ]
  },
  {
   "cell_type": "code",
   "execution_count": 12,
   "id": "8998e90d-f3b0-4c8c-b711-82d0865a4e49",
   "metadata": {},
   "outputs": [
    {
     "data": {
      "text/plain": [
       "[2, 3, 4, 'monu', True, 50.22]"
      ]
     },
     "execution_count": 12,
     "metadata": {},
     "output_type": "execute_result"
    }
   ],
   "source": [
    "p"
   ]
  },
  {
   "cell_type": "code",
   "execution_count": 13,
   "id": "c2e21785-bbee-474a-87df-84a4829a8495",
   "metadata": {},
   "outputs": [],
   "source": [
    "p[3] = 'sonu'"
   ]
  },
  {
   "cell_type": "code",
   "execution_count": 15,
   "id": "86654882-29be-44bd-a2e0-4e83d981df0e",
   "metadata": {},
   "outputs": [
    {
     "data": {
      "text/plain": [
       "[2, 3, 4, 'sonu', True, 50.22]"
      ]
     },
     "execution_count": 15,
     "metadata": {},
     "output_type": "execute_result"
    }
   ],
   "source": [
    "p"
   ]
  },
  {
   "cell_type": "code",
   "execution_count": 16,
   "id": "84e58996-ad01-48ba-be88-ed0ddef5f326",
   "metadata": {},
   "outputs": [
    {
     "data": {
      "text/plain": [
       "'daksh'"
      ]
     },
     "execution_count": 16,
     "metadata": {},
     "output_type": "execute_result"
    }
   ],
   "source": [
    "s"
   ]
  },
  {
   "cell_type": "code",
   "execution_count": 17,
   "id": "2dc7a01e-a3b9-43b8-8247-405f3b2dbd7c",
   "metadata": {},
   "outputs": [
    {
     "ename": "TypeError",
     "evalue": "'str' object does not support item assignment",
     "output_type": "error",
     "traceback": [
      "\u001b[0;31m---------------------------------------------------------------------------\u001b[0m",
      "\u001b[0;31mTypeError\u001b[0m                                 Traceback (most recent call last)",
      "Cell \u001b[0;32mIn[17], line 1\u001b[0m\n\u001b[0;32m----> 1\u001b[0m \u001b[43ms\u001b[49m\u001b[43m[\u001b[49m\u001b[38;5;241;43m1\u001b[39;49m\u001b[43m]\u001b[49m \u001b[38;5;241m=\u001b[39m \u001b[38;5;124m'\u001b[39m\u001b[38;5;124me\u001b[39m\u001b[38;5;124m'\u001b[39m\n",
      "\u001b[0;31mTypeError\u001b[0m: 'str' object does not support item assignment"
     ]
    }
   ],
   "source": [
    "s[1] = 'e'"
   ]
  },
  {
   "cell_type": "markdown",
   "id": "5084551a-a581-415d-9b2c-9caf360c6868",
   "metadata": {},
   "source": [
    "Replacement is note allow in string"
   ]
  },
  {
   "cell_type": "raw",
   "id": "906cedf6-e3c3-4545-88d7-74b72a5d5f9e",
   "metadata": {},
   "source": [
    " So That List Is Mutable Object & String Is Imutable object"
   ]
  }
 ],
 "metadata": {
  "kernelspec": {
   "display_name": "Python 3 (ipykernel)",
   "language": "python",
   "name": "python3"
  },
  "language_info": {
   "codemirror_mode": {
    "name": "ipython",
    "version": 3
   },
   "file_extension": ".py",
   "mimetype": "text/x-python",
   "name": "python",
   "nbconvert_exporter": "python",
   "pygments_lexer": "ipython3",
   "version": "3.10.8"
  }
 },
 "nbformat": 4,
 "nbformat_minor": 5
}
