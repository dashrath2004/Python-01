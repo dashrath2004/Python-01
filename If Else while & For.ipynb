{
 "cells": [
  {
   "cell_type": "code",
   "execution_count": 2,
   "id": "e719ed19-c08b-4550-b004-8a516a7a8240",
   "metadata": {},
   "outputs": [],
   "source": [
    "a = 10\n",
    "if a > 10 :\n",
    "    print('yes a is greater than 10')"
   ]
  },
  {
   "cell_type": "code",
   "execution_count": 3,
   "id": "03db92f9-71e7-4875-91ac-f23a4d5274dc",
   "metadata": {},
   "outputs": [
    {
     "data": {
      "text/plain": [
       "False"
      ]
     },
     "execution_count": 3,
     "metadata": {},
     "output_type": "execute_result"
    }
   ],
   "source": [
    "a > 10"
   ]
  },
  {
   "cell_type": "code",
   "execution_count": 4,
   "id": "861f9beb-160c-433b-958c-b30644c1b9be",
   "metadata": {},
   "outputs": [
    {
     "name": "stdout",
     "output_type": "stream",
     "text": [
      "yes a is greater than 10\n"
     ]
    }
   ],
   "source": [
    " a = 10\n",
    "if a >= 10 :\n",
    "    print('yes a is greater than 10') \n"
   ]
  },
  {
   "cell_type": "code",
   "execution_count": 5,
   "id": "c3ca8418-5090-44de-ab46-86d2728ad239",
   "metadata": {},
   "outputs": [
    {
     "data": {
      "text/plain": [
       "True"
      ]
     },
     "execution_count": 5,
     "metadata": {},
     "output_type": "execute_result"
    }
   ],
   "source": [
    "a >= 10"
   ]
  },
  {
   "cell_type": "code",
   "execution_count": 6,
   "id": "78c268f2-7c8c-4316-88a5-11f604436998",
   "metadata": {},
   "outputs": [
    {
     "name": "stdout",
     "output_type": "stream",
     "text": [
      "this is my defalut\n"
     ]
    }
   ],
   "source": [
    "b = 20\n",
    "if b > 30 :\n",
    "    print('yes b is greater than 30')\n",
    "elif b > 40 :\n",
    "    print('yes b is leser than 40')\n",
    "elif b > 100 :\n",
    "    print('yes b is greater than 100')\n",
    "else :\n",
    "    print('this is my defalut')\n",
    "    "
   ]
  },
  {
   "cell_type": "code",
   "execution_count": 7,
   "id": "ba85cd30-92b3-40dc-955c-a0132d39eab6",
   "metadata": {},
   "outputs": [
    {
     "data": {
      "text/plain": [
       "False"
      ]
     },
     "execution_count": 7,
     "metadata": {},
     "output_type": "execute_result"
    }
   ],
   "source": [
    "b > 30"
   ]
  },
  {
   "cell_type": "code",
   "execution_count": 8,
   "id": "d8400476-903e-4615-9d13-0dc4fa8d4d9e",
   "metadata": {},
   "outputs": [
    {
     "data": {
      "text/plain": [
       "False"
      ]
     },
     "execution_count": 8,
     "metadata": {},
     "output_type": "execute_result"
    }
   ],
   "source": [
    "b > 40"
   ]
  },
  {
   "cell_type": "code",
   "execution_count": 9,
   "id": "675f3fd6-d388-47b8-a955-0f34fe4ac09c",
   "metadata": {},
   "outputs": [
    {
     "data": {
      "text/plain": [
       "False"
      ]
     },
     "execution_count": 9,
     "metadata": {},
     "output_type": "execute_result"
    }
   ],
   "source": [
    "b > 100"
   ]
  },
  {
   "cell_type": "raw",
   "id": "ee816155-8645-4aac-859f-dee1103ebad5",
   "metadata": {},
   "source": [
    "only On True Is Run"
   ]
  },
  {
   "cell_type": "code",
   "execution_count": 10,
   "id": "c77ad354-0b08-4087-bb6a-95c5aafa4beb",
   "metadata": {},
   "outputs": [
    {
     "name": "stdin",
     "output_type": "stream",
     "text": [
      " 324\n"
     ]
    },
    {
     "data": {
      "text/plain": [
       "'324'"
      ]
     },
     "execution_count": 10,
     "metadata": {},
     "output_type": "execute_result"
    }
   ],
   "source": [
    "input()"
   ]
  },
  {
   "cell_type": "code",
   "execution_count": 13,
   "id": "7f574e93-9a29-447b-ab06-e1ee8aaa8bbb",
   "metadata": {},
   "outputs": [
    {
     "data": {
      "text/plain": [
       "324"
      ]
     },
     "execution_count": 13,
     "metadata": {},
     "output_type": "execute_result"
    }
   ],
   "source": [
    "int('324')"
   ]
  },
  {
   "cell_type": "raw",
   "id": "222a48fa-459b-4bb5-ab32-ee8715d81e94",
   "metadata": {},
   "source": [
    "string All Time Take A String So Give A variables"
   ]
  },
  {
   "cell_type": "code",
   "execution_count": 1,
   "id": "b7f1d102-d7ea-4be7-a6ca-2f5bf569ca22",
   "metadata": {},
   "outputs": [
    {
     "name": "stdin",
     "output_type": "stream",
     "text": [
      " 110\n"
     ]
    },
    {
     "name": "stdout",
     "output_type": "stream",
     "text": [
      "yes b is greater than 30\n"
     ]
    }
   ],
   "source": [
    "b = int(input())\n",
    "if b > 30 :\n",
    "    print('yes b is greater than 30')\n",
    "elif b > 40 :\n",
    "    print('yes b is leser than 40')\n",
    "elif b > 100 :\n",
    "    print('yes b is greater than 100')\n",
    "else :\n",
    "    print('this is my defalut')\n",
    "    \n"
   ]
  },
  {
   "cell_type": "code",
   "execution_count": 3,
   "id": "a9817fe8-e2e0-4773-85eb-1156c9aab81e",
   "metadata": {},
   "outputs": [
    {
     "name": "stdin",
     "output_type": "stream",
     "text": [
      " 15\n"
     ]
    },
    {
     "name": "stdout",
     "output_type": "stream",
     "text": [
      "this is my defalut\n"
     ]
    }
   ],
   "source": [
    "b = int(input())\n",
    "if b > 30 :\n",
    "    print('yes b is greater than 30')\n",
    "elif b > 40 :\n",
    "    print('yes b is leser than 40')\n",
    "elif b > 100 :\n",
    "    print('yes b is greater than 100')\n",
    "else :\n",
    "    print('this is my defalut')\n",
    "    "
   ]
  },
  {
   "cell_type": "code",
   "execution_count": 4,
   "id": "d0f7c690-7b37-4723-9da6-ae6e5b3e4407",
   "metadata": {},
   "outputs": [
    {
     "name": "stdout",
     "output_type": "stream",
     "text": [
      "1\n",
      "2\n",
      "3\n"
     ]
    }
   ],
   "source": [
    "n = 4\n",
    "i = 1\n",
    "while i < n :\n",
    "    print(i)\n",
    "    i = i + 1"
   ]
  },
  {
   "cell_type": "code",
   "execution_count": 5,
   "id": "cb6ba963-2f12-4675-a557-0656ee4553c4",
   "metadata": {},
   "outputs": [
    {
     "name": "stdout",
     "output_type": "stream",
     "text": [
      "1\n",
      "2\n",
      "3\n",
      "This Is My Else\n"
     ]
    }
   ],
   "source": [
    "n = 4\n",
    "i = 1\n",
    "while i < n :\n",
    "    print(i)\n",
    "    i = i + 1\n",
    "else :\n",
    "    print(\"This Is My Else\") "
   ]
  },
  {
   "cell_type": "code",
   "execution_count": 6,
   "id": "94ebef13-8edb-457e-b18c-d677ff525d82",
   "metadata": {},
   "outputs": [
    {
     "name": "stdout",
     "output_type": "stream",
     "text": [
      "1\n",
      "2\n"
     ]
    }
   ],
   "source": [
    "n = 4\n",
    "i = 1\n",
    "while i < n :\n",
    "    print(i)\n",
    "    i = i + 1\n",
    "    if i == 3 :\n",
    "        break\n",
    "else :\n",
    "    print(\"This Is My Else\")"
   ]
  },
  {
   "cell_type": "code",
   "execution_count": 7,
   "id": "9aa5d126-27a0-478e-b363-73453142f7be",
   "metadata": {},
   "outputs": [
    {
     "name": "stdout",
     "output_type": "stream",
     "text": [
      "m\n",
      "o\n",
      "n\n",
      "u\n"
     ]
    }
   ],
   "source": [
    "s =\"monu\"\n",
    "for i in s :\n",
    "    print(i)"
   ]
  },
  {
   "cell_type": "code",
   "execution_count": 10,
   "id": "e9dff3af-15fe-4d36-8385-3686f7a0fc49",
   "metadata": {},
   "outputs": [],
   "source": [
    "l = [2,3,4,5,6,'sonu' , \"pwskills\" , True , 23.20]"
   ]
  },
  {
   "cell_type": "code",
   "execution_count": 14,
   "id": "b36fa6b6-04d3-4192-9462-f76fa40e3536",
   "metadata": {},
   "outputs": [
    {
     "name": "stdout",
     "output_type": "stream",
     "text": [
      "<class 'int'>\n",
      "<class 'int'>\n",
      "<class 'int'>\n",
      "<class 'int'>\n",
      "<class 'int'>\n",
      "<class 'str'>\n",
      "<class 'str'>\n",
      "<class 'bool'>\n",
      "<class 'float'>\n"
     ]
    }
   ],
   "source": [
    "for p in l :\n",
    "    print(type(p))"
   ]
  },
  {
   "cell_type": "code",
   "execution_count": 16,
   "id": "25696dde-87a0-4fa6-a0fe-7d1ed0ae4d1f",
   "metadata": {},
   "outputs": [
    {
     "name": "stdout",
     "output_type": "stream",
     "text": [
      "<class 'int'>\n",
      "<class 'int'>\n",
      "<class 'int'>\n",
      "<class 'int'>\n",
      "<class 'int'>\n"
     ]
    }
   ],
   "source": [
    "for p in l :\n",
    "    print(type(p))\n",
    "    if p == 6 :\n",
    "        break\n",
    "else :\n",
    "    print(\"this will be executed once for loop will comoplete itself succefully\")\n",
    "\n",
    "    "
   ]
  },
  {
   "cell_type": "code",
   "execution_count": 17,
   "id": "1f5bedb4-4e43-434b-825b-39fb8d77e5fb",
   "metadata": {},
   "outputs": [
    {
     "name": "stdout",
     "output_type": "stream",
     "text": [
      "<class 'int'>\n",
      "<class 'int'>\n",
      "<class 'int'>\n",
      "<class 'int'>\n",
      "<class 'int'>\n",
      "<class 'str'>\n",
      "<class 'str'>\n",
      "<class 'bool'>\n",
      "<class 'float'>\n",
      "this will be executed once for loop will comoplete itself succefully\n"
     ]
    }
   ],
   "source": [
    "for p in l :\n",
    "    print(type(p))\n",
    "    if p == 6 :\n",
    "        continue\n",
    "else :\n",
    "    print(\"this will be executed once for loop will comoplete itself succefully\")\n",
    "\n",
    "    "
   ]
  },
  {
   "cell_type": "code",
   "execution_count": 19,
   "id": "0f16a0e5-1b15-44f8-9c50-21a05eaca170",
   "metadata": {},
   "outputs": [
    {
     "name": "stdout",
     "output_type": "stream",
     "text": [
      "<class 'int'>\n",
      "2\n",
      "<class 'int'>\n",
      "3\n",
      "<class 'int'>\n",
      "4\n",
      "<class 'int'>\n",
      "5\n",
      "<class 'int'>\n",
      "<class 'str'>\n",
      "sonu\n",
      "<class 'str'>\n",
      "pwskills\n",
      "<class 'bool'>\n",
      "True\n",
      "<class 'float'>\n",
      "23.2\n",
      "this will be executed once for loop will comoplete itself succefully\n"
     ]
    }
   ],
   "source": [
    "for p in l :\n",
    "    print(type(p))\n",
    "    if p == 6 :\n",
    "        continue\n",
    "    print(p)       \n",
    "else :\n",
    "    print(\"this will be executed once for loop will comoplete itself succefully\")\n",
    "\n",
    "    "
   ]
  },
  {
   "cell_type": "code",
   "execution_count": 20,
   "id": "10b30e68-06ee-48b8-802d-54d62799cf27",
   "metadata": {},
   "outputs": [
    {
     "data": {
      "text/plain": [
       "range(0, 10)"
      ]
     },
     "execution_count": 20,
     "metadata": {},
     "output_type": "execute_result"
    }
   ],
   "source": [
    "range(10)"
   ]
  },
  {
   "cell_type": "code",
   "execution_count": 21,
   "id": "96fec136-e426-4e9f-8161-50ee049b9693",
   "metadata": {},
   "outputs": [
    {
     "data": {
      "text/plain": [
       "[0, 1, 2, 3, 4, 5, 6, 7, 8, 9]"
      ]
     },
     "execution_count": 21,
     "metadata": {},
     "output_type": "execute_result"
    }
   ],
   "source": [
    "list(range(10))"
   ]
  },
  {
   "cell_type": "code",
   "execution_count": null,
   "id": "fe81683d-0047-4cf5-9732-c58e0a6c6442",
   "metadata": {},
   "outputs": [],
   "source": []
  }
 ],
 "metadata": {
  "kernelspec": {
   "display_name": "Python 3 (ipykernel)",
   "language": "python",
   "name": "python3"
  },
  "language_info": {
   "codemirror_mode": {
    "name": "ipython",
    "version": 3
   },
   "file_extension": ".py",
   "mimetype": "text/x-python",
   "name": "python",
   "nbconvert_exporter": "python",
   "pygments_lexer": "ipython3",
   "version": "3.10.8"
  }
 },
 "nbformat": 4,
 "nbformat_minor": 5
}
